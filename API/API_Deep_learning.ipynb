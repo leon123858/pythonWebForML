{
 "cells": [
  {
   "cell_type": "code",
   "execution_count": 1,
   "metadata": {},
   "outputs": [
    {
     "name": "stderr",
     "output_type": "stream",
     "text": [
      "C:\\Users\\user\\Anaconda3\\lib\\site-packages\\h5py\\__init__.py:36: FutureWarning: Conversion of the second argument of issubdtype from `float` to `np.floating` is deprecated. In future, it will be treated as `np.float64 == np.dtype(float).type`.\n",
      "  from ._conv import register_converters as _register_converters\n",
      "Using TensorFlow backend.\n"
     ]
    }
   ],
   "source": [
    "import keras\n",
    "from keras.models import Sequential\n",
    "from keras.layers import Dense\n",
    "from keras.layers.core import Dense, Activation\n",
    "from flask import Flask, render_template, request\n",
    "from werkzeug.utils import secure_filename\n",
    "import os\n",
    "import pandas as pd\n",
    "import numpy as np\n",
    "from sklearn.model_selection import train_test_split\n",
    "import matplotlib.pyplot as plt"
   ]
  },
  {
   "cell_type": "code",
   "execution_count": 2,
   "metadata": {},
   "outputs": [],
   "source": [
    "#將使用者選到到的col放到最前面並儲存\n",
    "def selected_ouput_col_and_save(pf,index,filename):\n",
    "    pf.insert(0,index,pf.pop(index))\n",
    "    pf.to_csv(\"temp\\\\\"+filename,sep=',')"
   ]
  },
  {
   "cell_type": "code",
   "execution_count": 3,
   "metadata": {},
   "outputs": [],
   "source": [
    "#分割訓練及測試資料\n",
    "def split_train_test_data(pf,ratio):\n",
    "    cols = pf.columns.tolist()\n",
    "    y = pf[cols[1]]\n",
    "    x = pf[cols[2:]]\n",
    "    train_x , test_x  , train_y , test_y = train_test_split(x,y,test_size = ratio)\n",
    "    return train_x , test_x  , train_y , test_y"
   ]
  },
  {
   "cell_type": "code",
   "execution_count": 4,
   "metadata": {},
   "outputs": [],
   "source": [
    "# DNN 模型建構\n",
    "def dnn_model_build(dnn_parameter,train_x,train_y):\n",
    "    dnn_model = Sequential()\n",
    "    dnn_model.add(Dense(int(dnn_parameter.layers[0][0]),input_dim = len(train_x.columns.tolist()),activation=dnn_parameter.layers[0][1]))\n",
    "    for index in range(1,len(dnn_parameter.layers)):\n",
    "        dnn_model.add(Dense(int(dnn_parameter.layers[index][0]),activation=dnn_parameter.layers[index][1]))\n",
    "    dnn_model.add(Dense(output_dim = 1,activation='sigmoid'))\n",
    "    dnn_model.compile(loss='binary_crossentropy', optimizer='adam', metrics=['accuracy'])\n",
    "    history = dnn_model.fit(train_x, train_y,epochs = int(dnn_parameter.epoch),verbose = 1 , validation_data=(train_x, train_y)) \n",
    "    return history"
   ]
  },
  {
   "cell_type": "code",
   "execution_count": 5,
   "metadata": {},
   "outputs": [],
   "source": [
    "# 繪製訓練過程圖 並放置static\n",
    "def train_history(history):\n",
    "    plt.subplot(211)\n",
    "\n",
    "    plt.plot(history.history['accuracy'])\n",
    "    plt.plot(history.history['val_accuracy'])\n",
    "    plt.ylabel(\"accurary\")\n",
    "    plt.title(\"accurary history\")\n",
    "    plt.legend(['train_acc','test_acc'],loc='upper left')\n",
    "\n",
    "    plt.subplot(212)\n",
    "\n",
    "    plt.plot(history.history['loss'])\n",
    "    plt.plot(history.history['val_loss'])\n",
    "    plt.ylabel(\"loss\")\n",
    "    plt.title(\"accurary history\")\n",
    "    plt.legend(['train_loss', 'test_loss'],loc='upper left')\n",
    "    plt.xlabel(\"epoch\")\n",
    "\n",
    "    plt.tight_layout()\n",
    "    plt.savefig('static\\\\train_history.jpg')\n",
    "    plt.show()\n",
    "    return True"
   ]
  },
  {
   "cell_type": "code",
   "execution_count": 6,
   "metadata": {},
   "outputs": [],
   "source": [
    "#用以紀錄dnn的參數及超參數\n",
    "class dnn_para():\n",
    "    def __init__(self):\n",
    "        self.filename = \"\"\n",
    "        self.split = 0\n",
    "        self.epoch = 1\n",
    "        self.hidden_num = 1\n",
    "        self.layers = []\n",
    "    def set_filename(self,filename):\n",
    "        self.filename = filename\n",
    "    def set_split(self,split_ratio):\n",
    "        self.split = split_ratio\n",
    "    def set_epoch (self,epoch):\n",
    "        self.epoch = epoch\n",
    "    def set_hidden_num(self,hidden_num):\n",
    "        self.hidden_num = hidden_num\n",
    "    def set_layers(self,model):   \n",
    "        layers = model.split('\\t')\n",
    "        for layer in layers:\n",
    "            layer_para = layer.split(',')\n",
    "            self.layers.append(layer_para)\n",
    "dnn_parameter = dnn_para()  "
   ]
  },
  {
   "cell_type": "code",
   "execution_count": null,
   "metadata": {},
   "outputs": [],
   "source": [
    "app = Flask(__name__)\n",
    "upload_path = \"temp\"\n",
    "app.config['UPLOAD_FOLDER'] = upload_path\n",
    "      \n",
    "dnn_model = Sequential()\n",
    "\n",
    "#首頁\n",
    "@app.route('/',methods = ['GET','POST'])\n",
    "def main():   \n",
    "    return render_template('home.html')\n",
    "\n",
    "#選擇要用哪個服務(目前僅有DNN)\n",
    "@app.route('/sever',methods = ['POST'])\n",
    "def sever():\n",
    "    if request.method == 'POST':\n",
    "        sever_name = request.values.get('sever')\n",
    "        if sever_name == 'DNN':\n",
    "            return render_template('DNN_file.html') \n",
    "        return render_template('home.html')\n",
    "    \n",
    "# 上傳csv並選擇要當target的label\n",
    "@app.route('/DNN_file',methods = ['POST'])\n",
    "def dnn_file():\n",
    "    if request.method == 'POST':\n",
    "        file = request.files['upload']\n",
    "        filename = secure_filename(file.filename)\n",
    "        dnn_parameter.set_filename(filename)\n",
    "        file.save(os.path.join(app.config['UPLOAD_FOLDER'],filename))\n",
    "        pf = pd.read_csv(upload_path+'\\\\'+filename)\n",
    "        selected_col = request.values.get('selected_name').split(' ')[1]\n",
    "        selected_ouput_col_and_save(pf,selected_col,filename)\n",
    "        return render_template('DNN.html')\n",
    "@app.route('/DNN',methods=['POST'])\n",
    "\n",
    "#選擇DNN參數及超參數\n",
    "def DNN():\n",
    "    if request.method == 'POST':\n",
    "        dnn_parameter.set_split(request.values.get('split_ratio'))\n",
    "        dnn_parameter.set_epoch(request.values.get('epoch'))\n",
    "        dnn_parameter.set_hidden_num(request.values.get('hidden_num'))\n",
    "        dnn_parameter.set_layers(request.values.get('model'))\n",
    "        pf = pd.read_csv(upload_path+'\\\\'+dnn_parameter.filename) \n",
    "        train_x , test_x  , train_y , test_y = split_train_test_data(pf,float(dnn_parameter.split))\n",
    "        history = dnn_model_build(dnn_parameter,train_x,train_y)\n",
    "        train_history(history)\n",
    "        return render_template('dnn_model_fit.html')                          "
   ]
  },
  {
   "cell_type": "code",
   "execution_count": null,
   "metadata": {},
   "outputs": [
    {
     "name": "stderr",
     "output_type": "stream",
     "text": [
      " * Running on http://127.0.0.1:3000/ (Press CTRL+C to quit)\n",
      "127.0.0.1 - - [24/Oct/2020 13:32:24] \"\u001b[37mGET / HTTP/1.1\u001b[0m\" 200 -\n",
      "127.0.0.1 - - [24/Oct/2020 13:32:24] \"\u001b[33mGET /favicon.ico HTTP/1.1\u001b[0m\" 404 -\n",
      "127.0.0.1 - - [24/Oct/2020 13:32:27] \"\u001b[37mPOST /sever HTTP/1.1\u001b[0m\" 200 -\n",
      "127.0.0.1 - - [24/Oct/2020 13:32:45] \"\u001b[37mPOST /DNN_file HTTP/1.1\u001b[0m\" 200 -\n",
      "C:\\Users\\user\\Anaconda3\\lib\\site-packages\\ipykernel_launcher.py:6: UserWarning: Update your `Dense` call to the Keras 2 API: `Dense(activation=\"sigmoid\", units=1)`\n",
      "  \n"
     ]
    },
    {
     "name": "stdout",
     "output_type": "stream",
     "text": [
      "Train on 623 samples, validate on 623 samples\n",
      "Epoch 1/10\n",
      "623/623 [==============================] - 0s 638us/step - loss: 2.6448 - accuracy: 0.0016 - val_loss: 2.5003 - val_accuracy: 0.0048\n",
      "Epoch 2/10\n",
      "623/623 [==============================] - 0s 117us/step - loss: 2.3587 - accuracy: 0.0048 - val_loss: 2.1782 - val_accuracy: 0.0048\n",
      "Epoch 3/10\n",
      "623/623 [==============================] - 0s 113us/step - loss: 1.9777 - accuracy: 0.0064 - val_loss: 1.7247 - val_accuracy: 0.0096\n",
      "Epoch 4/10\n",
      "623/623 [==============================] - 0s 111us/step - loss: 1.5802 - accuracy: 0.0096 - val_loss: 1.4215 - val_accuracy: 0.0096\n",
      "Epoch 5/10\n",
      "623/623 [==============================] - 0s 108us/step - loss: 1.2061 - accuracy: 0.0096 - val_loss: 0.9867 - val_accuracy: 0.0096\n",
      "Epoch 6/10\n",
      "623/623 [==============================] - 0s 119us/step - loss: 0.9100 - accuracy: 0.0096 - val_loss: 0.8348 - val_accuracy: 0.0112\n",
      "Epoch 7/10\n",
      "623/623 [==============================] - 0s 119us/step - loss: 0.7812 - accuracy: 0.0144 - val_loss: 0.7178 - val_accuracy: 0.0417\n",
      "Epoch 8/10\n",
      "623/623 [==============================] - 0s 109us/step - loss: 0.6645 - accuracy: 0.1557 - val_loss: 0.6029 - val_accuracy: 0.2247\n",
      "Epoch 9/10\n",
      "623/623 [==============================] - 0s 107us/step - loss: 0.5520 - accuracy: 0.2295 - val_loss: 0.4910 - val_accuracy: 0.2360\n",
      "Epoch 10/10\n",
      "623/623 [==============================] - 0s 111us/step - loss: 0.4359 - accuracy: 0.2408 - val_loss: 0.3678 - val_accuracy: 0.2424\n"
     ]
    },
    {
     "data": {
      "image/png": "[encoded data removed]",
      "text/plain": [
       "<Figure size 432x288 with 2 Axes>"
      ]
     },
     "metadata": {},
     "output_type": "display_data"
    },
    {
     "name": "stderr",
     "output_type": "stream",
     "text": [
      "127.0.0.1 - - [24/Oct/2020 13:32:57] \"\u001b[37mPOST /DNN HTTP/1.1\u001b[0m\" 200 -\n",
      "127.0.0.1 - - [24/Oct/2020 13:32:57] \"\u001b[37mGET /static/train_history.jpg HTTP/1.1\u001b[0m\" 200 -\n"
     ]
    }
   ],
   "source": [
    "if __name__ == '__main__':\n",
    "    app.run(port=3000)"
   ]
  },
  {
   "cell_type": "code",
   "execution_count": null,
   "metadata": {},
   "outputs": [],
   "source": []
  },
  {
   "cell_type": "code",
   "execution_count": null,
   "metadata": {},
   "outputs": [],
   "source": []
  }
 ],
 "metadata": {
  "kernelspec": {
   "display_name": "Python 3",
   "language": "python",
   "name": "python3"
  },
  "language_info": {
   "codemirror_mode": {
    "name": "ipython",
    "version": 3
   },
   "file_extension": ".py",
   "mimetype": "text/x-python",
   "name": "python",
   "nbconvert_exporter": "python",
   "pygments_lexer": "ipython3",
   "version": "3.7.7"
  }
 },
 "nbformat": 4,
 "nbformat_minor": 2
}
